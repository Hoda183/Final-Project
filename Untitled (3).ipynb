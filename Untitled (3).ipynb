{
  "nbformat": 4,
  "nbformat_minor": 0,
  "metadata": {
    "colab": {
      "name": "Untitled",
      "provenance": []
    },
    "kernelspec": {
      "name": "python3",
      "display_name": "Python 3"
    }
  },
  "cells": [
    {
      "cell_type": "code",
      "metadata": {
        "id": "DNKc8tUYxcXt",
        "colab_type": "code",
        "colab": {
          "base_uri": "https://localhost:8080/",
          "height": 68
        },
        "outputId": "98a13ded-79f8-4985-d5d7-63d3bb4f5bab"
      },
      "source": [
        "import numpy as np # library to handle data in a vectorized manner\n",
        "!pip install geopy\n",
        "import geopy\n",
        "import pandas as pd # library for data analsysis\n",
        "pd.set_option('display.max_columns', None)\n",
        "pd.set_option('display.max_rows', None)\n",
        "\n",
        "import json # library to handle JSON files\n",
        "\n",
        "#!conda install -c conda-forge geopy --yes # uncomment this line if you haven't completed the Foursquare API lab\n",
        "from geopy.geocoders import Nominatim # convert an address into latitude and longitude values\n",
        "\n",
        "import requests # library to handle requests\n",
        "from pandas.io.json import json_normalize # tranform JSON file into a pandas dataframe\n",
        "\n",
        "# Matplotlib and associated plotting modules\n",
        "import matplotlib.cm as cm\n",
        "import matplotlib.pyplot as plt \n",
        "import matplotlib.colors as colors\n",
        "import folium\n",
        "print(\"All libraries are imported.\")\n"
      ],
      "execution_count": 1,
      "outputs": [
        {
          "output_type": "stream",
          "text": [
            "Requirement already satisfied: geopy in /usr/local/lib/python3.6/dist-packages (1.17.0)\n",
            "Requirement already satisfied: geographiclib<2,>=1.49 in /usr/local/lib/python3.6/dist-packages (from geopy) (1.50)\n",
            "All libraries are imported.\n"
          ],
          "name": "stdout"
        }
      ]
    },
    {
      "cell_type": "code",
      "metadata": {
        "id": "0actNaZAy18s",
        "colab_type": "code",
        "colab": {}
      },
      "source": [
        "url='https://cocl.us/new_york_dataset'\n",
        "resp1=requests.get(url).json()"
      ],
      "execution_count": 5,
      "outputs": []
    },
    {
      "cell_type": "code",
      "metadata": {
        "id": "e1xKia0By2Fv",
        "colab_type": "code",
        "colab": {}
      },
      "source": [
        "with open('new-york-data.json') as json_data:\n",
        "    newyork_data = json.load(json_data)\n",
        "newyork_data"
      ],
      "execution_count": 5,
      "outputs": []
    },
    {
      "cell_type": "code",
      "metadata": {
        "id": "SjfJdCOJy2Lf",
        "colab_type": "code",
        "colab": {}
      },
      "source": [
        "neighborhoods_data = newyork_data['features']\n",
        "# define the dataframe columns\n",
        "column_names = ['Borough', 'Neighborhood', 'Latitude', 'Longitude'] \n",
        "\n",
        "# instantiate the dataframe\n",
        "neighborhoods = pd.DataFrame(columns=column_names)\n",
        "for data in neighborhoods_data:\n",
        "    borough = neighborhood_name = data['properties']['borough'] \n",
        "    neighborhood_name = data['properties']['name']\n",
        "        \n",
        "    neighborhood_latlon = data['geometry']['coordinates']\n",
        "    neighborhood_lat = neighborhood_latlon[1]\n",
        "    neighborhood_lon = neighborhood_latlon[0]\n",
        "    \n",
        "    neighborhoods = neighborhoods.append({'Borough': borough,\n",
        "                                          'Neighborhood': neighborhood_name,\n",
        "                                          'Latitude': neighborhood_lat,\n",
        "                                          'Longitude': neighborhood_lon}, ignore_index=True)\n",
        "neighborhoods.head()"
      ],
      "execution_count": null,
      "outputs": []
    },
    {
      "cell_type": "code",
      "metadata": {
        "id": "Uo8VS3nmy2Rg",
        "colab_type": "code",
        "colab": {}
      },
      "source": [
        "neighborhoods.shape"
      ],
      "execution_count": null,
      "outputs": []
    },
    {
      "cell_type": "code",
      "metadata": {
        "id": "F1KbhcA2y2Xc",
        "colab_type": "code",
        "colab": {}
      },
      "source": [
        "print('The dataframe has {} boroughs and {} neighborhoods.'.format(\n",
        "        len(neighborhoods['Borough'].unique()),\n",
        "        neighborhoods.shape[0]\n",
        "    )\n",
        ")"
      ],
      "execution_count": null,
      "outputs": []
    },
    {
      "cell_type": "code",
      "metadata": {
        "id": "THNLZUfMy2eW",
        "colab_type": "code",
        "colab": {}
      },
      "source": [
        "plt.title('Number of Neighborhood for each Borough in New York City')\n",
        "#On x-axis\n",
        "plt.xlabel('Borough', fontsize = 15)\n",
        "#On y-axis\n",
        "plt.ylabel('No.of Neighborhood', fontsize=15)\n",
        "#giving a bar plot\n",
        "neighborhoods.groupby('Borough')['Neighborhood'].count().plot(kind='bar')\n",
        "#legend\n",
        "plt.legend()\n",
        "#displays the plot\n",
        "plt.show()"
      ],
      "execution_count": null,
      "outputs": []
    },
    {
      "cell_type": "code",
      "metadata": {
        "id": "jppInQDzy2Qy",
        "colab_type": "code",
        "colab": {}
      },
      "source": [
        "address = 'New York City, NY'\n",
        "\n",
        "geolocator = Nominatim(user_agent=\"ny_explorer\")\n",
        "location = geolocator.geocode(address)\n",
        "latitude = location.latitude\n",
        "longitude = location.longitude\n",
        "print('The geograpical coordinate of New York City are {}, {}.'.format(latitude, longitude))"
      ],
      "execution_count": null,
      "outputs": []
    },
    {
      "cell_type": "code",
      "metadata": {
        "id": "8lFr6lYKy2Kz",
        "colab_type": "code",
        "colab": {}
      },
      "source": [
        "map_newyork = folium.Map(location=[latitude, longitude], zoom_start=10)\n",
        "\n",
        "# add markers to map\n",
        "for lat, lng, borough, neighborhood in zip(neighborhoods['Latitude'], neighborhoods['Longitude'], neighborhoods['Borough'], neighborhoods['Neighborhood']):\n",
        "    label = '{}, {}'.format(neighborhood, borough)\n",
        "    label = folium.Popup(label, parse_html=True)\n",
        "    folium.CircleMarker(\n",
        "        [lat, lng],\n",
        "        radius=5,\n",
        "        popup=label,\n",
        "        color='blue',\n",
        "        fill=True,\n",
        "        fill_color='#3186cc',\n",
        "        fill_opacity=0.7,\n",
        "        parse_html=False).add_to(map_newyork)  \n",
        "    \n",
        "map_newyork"
      ],
      "execution_count": null,
      "outputs": []
    },
    {
      "cell_type": "code",
      "metadata": {
        "id": "l_vmnOAiy2E_",
        "colab_type": "code",
        "colab": {}
      },
      "source": [
        "queens_data = neighborhoods[neighborhoods['Borough'] == 'Queens'].reset_index(drop=True)\n",
        "queens_data.head()"
      ],
      "execution_count": null,
      "outputs": []
    },
    {
      "cell_type": "code",
      "metadata": {
        "id": "PVBzQSuRxcnL",
        "colab_type": "code",
        "colab": {}
      },
      "source": [
        "address = 'Queens, NY'\n",
        "\n",
        "geolocator = Nominatim(user_agent=\"ny_explorer\")\n",
        "location = geolocator.geocode(address)\n",
        "latitude = location.latitude\n",
        "longitude = location.longitude\n",
        "print('The geograpical coordinate of Queens are {}, {}.'.format(latitude, longitude))"
      ],
      "execution_count": null,
      "outputs": []
    },
    {
      "cell_type": "code",
      "metadata": {
        "id": "lsBA4-6ez-Cu",
        "colab_type": "code",
        "colab": {}
      },
      "source": [
        "map_queens = folium.Map(location=[latitude, longitude], zoom_start=11)\n",
        "\n",
        "# add markers to map\n",
        "for lat, lng, label in zip(queens_data['Latitude'], queens_data['Longitude'], queens_data['Neighborhood']):\n",
        "    label = folium.Popup(label, parse_html=True)\n",
        "    folium.CircleMarker(\n",
        "        [lat, lng],\n",
        "        radius=5,\n",
        "        popup=label,\n",
        "        color='blue',\n",
        "        fill=True,\n",
        "        fill_color='#3186cc',\n",
        "        fill_opacity=0.7,\n",
        "        parse_html=False).add_to(map_queens)  \n",
        "    \n",
        "map_queens"
      ],
      "execution_count": null,
      "outputs": []
    },
    {
      "cell_type": "code",
      "metadata": {
        "id": "KLUfJ2LJz-IM",
        "colab_type": "code",
        "colab": {}
      },
      "source": [
        "CLIENT_ID = '4HGENZGQUHSPVO3BGUU2Y4JKT23SV0IP3WOZLZCRQGPBNIPO' # your Foursquare ID\n",
        "CLIENT_SECRET = 'WTFJXPF3FD10CRBUFRSRHA1ETJ205FG5P51ZNGUYK2TUHQZT' # your Foursquare Secret\n",
        "VERSION = '20180605' # Foursquare API version\n",
        "\n",
        "print('Your credentails:')\n",
        "print('CLIENT_ID: ' + CLIENT_ID)\n",
        "print('CLIENT_SECRET:' + CLIENT_SECRET)"
      ],
      "execution_count": null,
      "outputs": []
    },
    {
      "cell_type": "code",
      "metadata": {
        "id": "87bzGS3pz-N2",
        "colab_type": "code",
        "colab": {}
      },
      "source": [
        "queens_data.loc[0:5, 'Neighborhood']"
      ],
      "execution_count": null,
      "outputs": []
    },
    {
      "cell_type": "code",
      "metadata": {
        "id": "D_IYfPLHz-Hf",
        "colab_type": "code",
        "colab": {}
      },
      "source": [
        "for index in range(0,5):\n",
        "    neighborhood_latitude = queens_data.loc[index, 'Latitude'] # neighborhood latitude value\n",
        "    neighborhood_longitude = queens_data.loc[index, 'Longitude'] # neighborhood longitude value\n",
        "\n",
        "    neighborhood_name = queens_data.loc[index, 'Neighborhood'] # neighborhood name\n",
        "    \n",
        "    print('Latitude and longitude values of {} are {}, {}.'.format(neighborhood_name, \n",
        "                                                               neighborhood_latitude, \n",
        "                                                               neighborhood_longitude))"
      ],
      "execution_count": null,
      "outputs": []
    },
    {
      "cell_type": "code",
      "metadata": {
        "id": "2B9RpZoq0U8l",
        "colab_type": "code",
        "colab": {}
      },
      "source": [
        "LIMIT = 100 # limit of number of venues returned by Foursquare API\n",
        "radius = 500 # define radius\n",
        " # create URL\n",
        "url = 'https://api.foursquare.com/v2/venues/explore?&client_id={}&client_secret={}&v={}&ll={},{}&radius={}&limit={}'.format(\n",
        "    CLIENT_ID, \n",
        "    CLIENT_SECRET, \n",
        "    VERSION, \n",
        "    neighborhood_latitude, \n",
        "    neighborhood_longitude, \n",
        "    radius, \n",
        "    LIMIT)\n",
        "url # display URL"
      ],
      "execution_count": null,
      "outputs": []
    },
    {
      "cell_type": "code",
      "metadata": {
        "id": "lsgP34Oh0VBI",
        "colab_type": "code",
        "colab": {}
      },
      "source": [
        "results = requests.get(url).json()\n",
        "results"
      ],
      "execution_count": null,
      "outputs": []
    },
    {
      "cell_type": "code",
      "metadata": {
        "id": "-lTJBTLA0VGN",
        "colab_type": "code",
        "colab": {}
      },
      "source": [
        "def get_category_type(row):\n",
        "    try:\n",
        "        categories_list = row['categories']\n",
        "    except:\n",
        "        categories_list = row['venue.categories']\n",
        "        \n",
        "    if len(categories_list) == 0:\n",
        "        return None\n",
        "    else:\n",
        "        return categories_list[0]['name']"
      ],
      "execution_count": null,
      "outputs": []
    },
    {
      "cell_type": "code",
      "metadata": {
        "id": "-VY-efZf0VLS",
        "colab_type": "code",
        "colab": {}
      },
      "source": [
        "venues = results['response']['groups'][0]['items']\n",
        "    \n",
        "nearby_venues = json_normalize(venues) # flatten JSON\n",
        "\n",
        "# filter columns\n",
        "filtered_columns = ['venue.name', 'venue.categories', 'venue.location.lat', 'venue.location.lng']\n",
        "nearby_venues =nearby_venues.loc[:, filtered_columns]\n",
        "\n",
        "# filter the category for each row\n",
        "nearby_venues['venue.categories'] = nearby_venues.apply(get_category_type, axis=1)\n",
        "\n",
        "# clean columns\n",
        "nearby_venues.columns = [col.split(\".\")[-1] for col in nearby_venues.columns]\n",
        "\n",
        "nearby_venues.head()"
      ],
      "execution_count": null,
      "outputs": []
    },
    {
      "cell_type": "code",
      "metadata": {
        "id": "uC4bn1NV0VFd",
        "colab_type": "code",
        "colab": {}
      },
      "source": [
        "print('{} venues were returned by Foursquare.'.format(nearby_venues.shape[0]))"
      ],
      "execution_count": null,
      "outputs": []
    },
    {
      "cell_type": "code",
      "metadata": {
        "id": "LNtbl-9h0VAZ",
        "colab_type": "code",
        "colab": {}
      },
      "source": [
        "def getNearbyVenues(names, latitudes, longtitudes, radius=1000):\n",
        "    \n",
        "    venues_list=[]\n",
        "    for name, lat, lng in zip(names, latitudes, longtitudes):\n",
        "        print(name)\n",
        "            \n",
        "        # create the API request URL\n",
        "        url = 'https://api.foursquare.com/v2/venues/explore?&client_id={}&client_secret={}&v={}&ll={},{}&radius={}&limit={}'.format(\n",
        "            CLIENT_ID, \n",
        "            CLIENT_SECRET, \n",
        "            VERSION, \n",
        "            lat, \n",
        "            lng, \n",
        "            radius, \n",
        "            LIMIT)\n",
        "            \n",
        "        # make the GET request\n",
        "        results = requests.get(url).json()[\"response\"]['groups'][0]['items']\n",
        "        \n",
        "        # return only relevant information for each nearby venue\n",
        "        venues_list.append([(\n",
        "            name, \n",
        "            lat, \n",
        "            lng, \n",
        "            v['venue']['name'], \n",
        "            v['venue']['location']['lat'], \n",
        "            v['venue']['location']['lng'],  \n",
        "            v['venue']['categories'][0]['name']) for v in results])\n",
        "\n",
        "    nearby_venues = pd.DataFrame([item for venue_list in venues_list for item in venue_list])\n",
        "    nearby_venues.columns = ['Neighborhood', \n",
        "                  'Neighborhood Latitude', \n",
        "                  'Neighborhood Longitude', \n",
        "                  'Venue', \n",
        "                  'Venue Latitude', \n",
        "                  'Venue Longitude', \n",
        "                  'Venue Category']\n",
        "    \n",
        "    return(nearby_venues)"
      ],
      "execution_count": null,
      "outputs": []
    },
    {
      "cell_type": "code",
      "metadata": {
        "id": "ItOseTO80U7y",
        "colab_type": "code",
        "colab": {}
      },
      "source": [
        "queens_venue = getNearbyVenues(names=queens_data['Neighborhood'],\n",
        "                               latitudes=queens_data['Latitude'],\n",
        "                               longtitudes=queens_data['Longitude']\n",
        "                                  )"
      ],
      "execution_count": null,
      "outputs": []
    },
    {
      "cell_type": "code",
      "metadata": {
        "id": "_pPWGyndz-Bm",
        "colab_type": "code",
        "colab": {}
      },
      "source": [
        "print(queens_venue.shape)\n",
        "queens_venue.head()"
      ],
      "execution_count": null,
      "outputs": []
    },
    {
      "cell_type": "code",
      "metadata": {
        "id": "YpVNYgr51IvN",
        "colab_type": "code",
        "colab": {}
      },
      "source": [
        "queens_venue.groupby('Neighborhood').count()"
      ],
      "execution_count": null,
      "outputs": []
    },
    {
      "cell_type": "code",
      "metadata": {
        "id": "9F9sZP9q1I7Z",
        "colab_type": "code",
        "colab": {}
      },
      "source": [
        "print('There are {} uniques categories.'.format(len(queens_venue['Venue Category'].unique())))"
      ],
      "execution_count": null,
      "outputs": []
    },
    {
      "cell_type": "code",
      "metadata": {
        "id": "sd_YPLlZ1I_j",
        "colab_type": "code",
        "colab": {}
      },
      "source": [
        "queens_onehot = pd.get_dummies(queens_venue[['Venue Category']], prefix=\"\", prefix_sep=\"\")\n",
        "\n",
        "# add neighborhood column back to dataframe\n",
        "queens_onehot['Neighborhood'] = queens_venue['Neighborhood'] \n",
        "\n",
        "# move neighborhood column to the first column\n",
        "fixed_columns = [queens_onehot.columns[-1]] + list(queens_onehot.columns[:-1])\n",
        "queens_onehot = queens_onehot[fixed_columns]\n",
        "\n",
        "queens_onehot.head()"
      ],
      "execution_count": null,
      "outputs": []
    },
    {
      "cell_type": "code",
      "metadata": {
        "id": "Kb4NXiUg1I-w",
        "colab_type": "code",
        "colab": {}
      },
      "source": [
        "queens_onehot.shape"
      ],
      "execution_count": null,
      "outputs": []
    },
    {
      "cell_type": "code",
      "metadata": {
        "id": "Voag7U4t1I6W",
        "colab_type": "code",
        "colab": {}
      },
      "source": [
        "queens_grouped = queens_onehot.groupby('Neighborhood').mean().reset_index()\n",
        "queens_grouped.head()"
      ],
      "execution_count": null,
      "outputs": []
    },
    {
      "cell_type": "code",
      "metadata": {
        "id": "zfryMxqu2Mb-",
        "colab_type": "code",
        "colab": {}
      },
      "source": [
        "def get_venues(lat,lng):\n",
        "    \n",
        "    #set variables\n",
        "    radius=1000\n",
        "    LIMIT=100\n",
        "    #url to fetch data from foursquare api\n",
        "    url = 'https://api.foursquare.com/v2/venues/explore?&client_id={}&client_secret={}&v={}&ll={},{}&radius={}&limit={}'.format(\n",
        "            CLIENT_ID, \n",
        "            CLIENT_SECRET, \n",
        "            VERSION, \n",
        "            lat, \n",
        "            lng, \n",
        "            radius, \n",
        "            LIMIT)\n",
        "    \n",
        "    # get all the data\n",
        "    results = requests.get(url).json()\n",
        "    venue_data=results[\"response\"]['groups'][0]['items']\n",
        "    venue_details=[]\n",
        "    for row in venue_data:\n",
        "        try:\n",
        "            venue_id=row['venue']['id']\n",
        "            venue_name=row['venue']['name']\n",
        "            venue_category=row['venue']['categories'][0]['name']\n",
        "            venue_details.append([venue_id,venue_name,venue_category])\n",
        "        except KeyError:\n",
        "            pass\n",
        "        \n",
        "    column_names=['ID','Name','Category']\n",
        "    df = pd.DataFrame(venue_details,columns=column_names)\n",
        "    return df"
      ],
      "execution_count": null,
      "outputs": []
    },
    {
      "cell_type": "code",
      "metadata": {
        "id": "ANbnUMBJ2Mg5",
        "colab_type": "code",
        "colab": {}
      },
      "source": [
        "column_names=['Borough', 'Neighborhood', 'ID','Name']\n",
        "italian_resturants_ny=pd.DataFrame(columns=column_names)\n",
        "count=1\n",
        "for row in queens_data.values.tolist():\n",
        "    Borough, Neighborhood, Latitude, Longtitude=row\n",
        "    venues = get_venues(Latitude,Longtitude)\n",
        "    italian_resturants=venues[venues['Category']=='Italian Restaurant']   \n",
        "    print('Italian Resturants in '+Neighborhood+', '+Borough+':'+str(len(italian_resturants)))\n",
        "    for resturant_detail in italian_resturants.values.tolist():\n",
        "        id, name , category=resturant_detail\n",
        "        italian_resturants_ny = italian_resturants_ny.append({'Borough': Borough,\n",
        "                                                'Neighborhood': Neighborhood, \n",
        "                                                'ID': id,\n",
        "                                                'Name' : name\n",
        "                                               }, ignore_index=True)\n",
        "    count+=1"
      ],
      "execution_count": null,
      "outputs": []
    },
    {
      "cell_type": "code",
      "metadata": {
        "id": "6QNHW4EX2MgA",
        "colab_type": "code",
        "colab": {}
      },
      "source": [
        "italian_resturants_ny.head()"
      ],
      "execution_count": null,
      "outputs": []
    },
    {
      "cell_type": "code",
      "metadata": {
        "id": "L5rUFIYC2Ma-",
        "colab_type": "code",
        "colab": {}
      },
      "source": [
        "italian_resturants_ny.shape"
      ],
      "execution_count": null,
      "outputs": []
    },
    {
      "cell_type": "code",
      "metadata": {
        "id": "sZQxh2mY2h6T",
        "colab_type": "code",
        "colab": {}
      },
      "source": [
        "plt.figure(figsize=(9,5), dpi = 100)\n",
        "# title\n",
        "plt.title('Number of Italian Resturants for each Queens neighbourhood in New York')\n",
        "#On x-axis\n",
        "plt.xlabel('Neighborhood', fontsize = 15)\n",
        "#On y-axis\n",
        "plt.ylabel('No.of Italian Resturants', fontsize=15)\n",
        "#giving a bar plot\n",
        "italian_resturants_ny.groupby('Neighborhood')['ID'].count().plot(kind='bar')\n",
        "#legend\n",
        "plt.legend()\n",
        "#displays the plot\n",
        "plt.show()"
      ],
      "execution_count": null,
      "outputs": []
    },
    {
      "cell_type": "code",
      "metadata": {
        "id": "SMMOA02F2h_n",
        "colab_type": "code",
        "colab": {}
      },
      "source": [
        "italian_resturants_ny[italian_resturants_ny['Neighborhood']=='Hunters Point']"
      ],
      "execution_count": null,
      "outputs": []
    },
    {
      "cell_type": "code",
      "metadata": {
        "id": "tEMFHl-r2iEj",
        "colab_type": "code",
        "colab": {}
      },
      "source": [
        "def get_venue_details(venue_id):\n",
        "    CLIENT_ID = '4TNA3RGQ4ZD1SOKVHT2MYBIMO20C1PW52M5GA14RLXUQO5MB' # your Foursquare ID\n",
        "    CLIENT_SECRET = 'JLWMKWX4NG4TL3FFBFMKWHS3KZ4UTTUMDNXSQ0TMRYSAQO1L' # your Foursquare Secret\n",
        "    VERSION = '20180605' # Foursquare API version\n",
        "    #url to fetch data from foursquare api\n",
        "    url = 'https://api.foursquare.com/v2/venues/{}?&client_id={}&client_secret={}&v={}'.format(\n",
        "            venue_id,\n",
        "            CLIENT_ID, \n",
        "            CLIENT_SECRET, \n",
        "            VERSION)\n",
        "    \n",
        "    # get all the data\n",
        "    results = requests.get(url).json()\n",
        "    venue_data=results['response']['venue']\n",
        "    venue_details=[]\n",
        "    try:\n",
        "        venue_id=venue_data['id']\n",
        "        venue_name=venue_data['name']\n",
        "        venue_likes=venue_data['likes']['count']\n",
        "        venue_rating=venue_data['rating']\n",
        "        venue_tips=venue_data['tips']['count']\n",
        "        venue_details.append([venue_id,venue_name,venue_likes,venue_rating,venue_tips])\n",
        "    except KeyError:\n",
        "        pass\n",
        "        \n",
        "    column_names=['ID','Name','Likes','Rating','Tips']\n",
        "    df = pd.DataFrame(venue_details,columns=column_names)\n",
        "    return df"
      ],
      "execution_count": null,
      "outputs": []
    },
    {
      "cell_type": "code",
      "metadata": {
        "id": "FYyQA8p32iMk",
        "colab_type": "code",
        "colab": {}
      },
      "source": [
        "column_names=['Borough', 'Neighborhood', 'ID','Name','Likes','Rating','Tips']\n",
        "italian_rest_details_ny=pd.DataFrame(columns=column_names)\n",
        "count=1\n",
        "\n",
        "\n",
        "for row in italian_resturants_ny.values.tolist():\n",
        "    Borough,Neighborhood,ID,Name=row\n",
        "    try:\n",
        "        venue_details=get_venue_details(ID)\n",
        "        print(venue_details)\n",
        "        id,name,likes,rating,tips=venue_details.values.tolist()[0]\n",
        "    except IndexError:\n",
        "        print('No data available for id=',ID)\n",
        "        # we will assign 0 value for these resturants as they may have been \n",
        "        #recently opened or details does not exist in FourSquare Database\n",
        "        id,name,likes,rating,tips=[0]*5\n",
        "    italian_rest_details_ny = italian_rest_details_ny.append({'Borough': Borough,\n",
        "                                                'Neighborhood': Neighborhood, \n",
        "                                                'ID': id,\n",
        "                                                'Name' : name,\n",
        "                                                'Likes' : likes,\n",
        "                                                'Rating' : rating,\n",
        "                                                'Tips' : tips\n",
        "                                               }, ignore_index=True)\n",
        "    count+=1"
      ],
      "execution_count": null,
      "outputs": []
    },
    {
      "cell_type": "code",
      "metadata": {
        "id": "3l-HKfHH2h-x",
        "colab_type": "code",
        "colab": {}
      },
      "source": [
        "italian_rest_details_ny"
      ],
      "execution_count": null,
      "outputs": []
    },
    {
      "cell_type": "code",
      "metadata": {
        "id": "KIfU2ejU2h5b",
        "colab_type": "code",
        "colab": {}
      },
      "source": [
        "italian_rest_details_ny.shape"
      ],
      "execution_count": null,
      "outputs": []
    },
    {
      "cell_type": "code",
      "metadata": {
        "id": "B0p3eXfC3Uh2",
        "colab_type": "code",
        "colab": {}
      },
      "source": [
        "italian_rest_details_ny.dtypes"
      ],
      "execution_count": null,
      "outputs": []
    },
    {
      "cell_type": "code",
      "metadata": {
        "id": "mgkNG_V83Ute",
        "colab_type": "code",
        "colab": {}
      },
      "source": [
        "italian_rest_details_ny['Likes']=italian_rest_details_ny['Likes'].astype('float64')"
      ],
      "execution_count": null,
      "outputs": []
    },
    {
      "cell_type": "code",
      "metadata": {
        "id": "0qtypvEW3U4W",
        "colab_type": "code",
        "colab": {}
      },
      "source": [
        "italian_rest_details_ny['Tips']=italian_rest_details_ny['Tips'].astype('float64')"
      ],
      "execution_count": null,
      "outputs": []
    },
    {
      "cell_type": "code",
      "metadata": {
        "id": "2J15C1Rs3Ush",
        "colab_type": "code",
        "colab": {}
      },
      "source": [
        "italian_rest_details_ny.iloc[italian_rest_details_ny['Likes'].idxmax()]"
      ],
      "execution_count": null,
      "outputs": []
    },
    {
      "cell_type": "code",
      "metadata": {
        "id": "8SIcwyiF3Ug-",
        "colab_type": "code",
        "colab": {}
      },
      "source": [
        "italian_rest_details_ny.iloc[italian_rest_details_ny['Rating'].idxmax()]"
      ],
      "execution_count": null,
      "outputs": []
    },
    {
      "cell_type": "code",
      "metadata": {
        "id": "QLaU3SUH4MvU",
        "colab_type": "code",
        "colab": {}
      },
      "source": [
        "italian_rest_details_ny.iloc[italian_rest_details_ny['Tips'].idxmax()]"
      ],
      "execution_count": null,
      "outputs": []
    },
    {
      "cell_type": "code",
      "metadata": {
        "id": "DD9LkkJH4M3y",
        "colab_type": "code",
        "colab": {}
      },
      "source": [
        "queens_neighborhood_average=italian_rest_details_ny.groupby('Neighborhood',as_index=False).mean()[['Neighborhood','Rating']]\n",
        "queens_neighborhood_average.columns=['Neighborhood','Average Rating']"
      ],
      "execution_count": null,
      "outputs": []
    },
    {
      "cell_type": "code",
      "metadata": {
        "id": "4WUhUsK74NAh",
        "colab_type": "code",
        "colab": {}
      },
      "source": [
        "queens_neighborhood_average.sort_values(['Average Rating'],ascending=False).head(10)"
      ],
      "execution_count": null,
      "outputs": []
    },
    {
      "cell_type": "code",
      "metadata": {
        "id": "mNTUK6NH4bCY",
        "colab_type": "code",
        "colab": {}
      },
      "source": [
        "queens_neighborhood_average.groupby('Neighborhood').mean().plot(kind='bar')\n",
        "#legend\n",
        "plt.legend()\n",
        "#displays the plot\n",
        "plt.show()"
      ],
      "execution_count": null,
      "outputs": []
    },
    {
      "cell_type": "code",
      "metadata": {
        "id": "1JKnv-zV4hA5",
        "colab_type": "code",
        "colab": {}
      },
      "source": [
        "queens_neighborhoods_average_filter=queens_neighborhood_average[queens_neighborhood_average['Average Rating']>=8.5]\n",
        "queens_neighborhoods_average_filter"
      ],
      "execution_count": null,
      "outputs": []
    },
    {
      "cell_type": "code",
      "metadata": {
        "id": "C1aMgS664g_6",
        "colab_type": "code",
        "colab": {}
      },
      "source": [
        ""
      ],
      "execution_count": null,
      "outputs": []
    }
  ]
}